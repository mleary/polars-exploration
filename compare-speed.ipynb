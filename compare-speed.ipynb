{
 "cells": [
  {
   "cell_type": "markdown",
   "metadata": {},
   "source": [
    "# Comparing speed performance of pandas vs. polars"
   ]
  },
  {
   "cell_type": "code",
   "execution_count": 1,
   "metadata": {},
   "outputs": [],
   "source": [
    "import pandas as pd\n",
    "import polars as pl\n",
    "from timeit import timeit, repeat\n",
    "\n",
    "filter_test_number = 150\n",
    "read_test_number = 150"
   ]
  },
  {
   "cell_type": "markdown",
   "metadata": {},
   "source": [
    "## Reading in data difference (via csv, but assume comparable )\n",
    "\n",
    "### With Pandas"
   ]
  },
  {
   "cell_type": "code",
   "execution_count": 2,
   "metadata": {},
   "outputs": [
    {
     "data": {
      "text/plain": [
       "'Pandas ran the process 150 times in 1497.62 seconds, for an average of 9.98 seconds'"
      ]
     },
     "execution_count": 2,
     "metadata": {},
     "output_type": "execute_result"
    }
   ],
   "source": [
    "\n",
    "pd_read = timeit(\n",
    "    setup= 'import pandas as pd',\n",
    "    stmt= 'pd.read_csv(\"Phones_accelerometer.csv\")',\n",
    "    number=read_test_number\n",
    ")\n",
    "\n",
    "'''Pandas ran the process {read_test_number} times in {total_time} seconds, for an average of {avg_seconds} seconds'''.format(\n",
    "    read_test_number = read_test_number,\n",
    "    total_time=round(pd_read,2), \n",
    "    avg_seconds=round((pd_read/read_test_number),2 )\n",
    "    )\n"
   ]
  },
  {
   "cell_type": "markdown",
   "metadata": {},
   "source": [
    "### With Polars"
   ]
  },
  {
   "cell_type": "code",
   "execution_count": 3,
   "metadata": {},
   "outputs": [
    {
     "data": {
      "text/plain": [
       "'Polars ran the process 150 times in 321.35 seconds, for an average of 2.14 seconds'"
      ]
     },
     "execution_count": 3,
     "metadata": {},
     "output_type": "execute_result"
    }
   ],
   "source": [
    "pl_read = timeit(\n",
    "    setup= 'import polars as pl',\n",
    "    stmt= 'pl.read_csv(\"Phones_accelerometer.csv\")',\n",
    "    number=read_test_number\n",
    ")\n",
    "\n",
    "'''Polars ran the process {read_test_number} times in {total_time} seconds, for an average of {avg_seconds} seconds'''.format(\n",
    "    read_test_number = read_test_number,\n",
    "    total_time=round(pl_read,2), \n",
    "    avg_seconds=round((pl_read/read_test_number),2 )\n",
    "    )"
   ]
  },
  {
   "cell_type": "markdown",
   "metadata": {},
   "source": [
    "### How much faster is Polars compared to Pandas (Pandas Time / Polars Time)"
   ]
  },
  {
   "cell_type": "code",
   "execution_count": 4,
   "metadata": {},
   "outputs": [
    {
     "data": {
      "text/plain": [
       "4.660415146896333"
      ]
     },
     "execution_count": 4,
     "metadata": {},
     "output_type": "execute_result"
    }
   ],
   "source": [
    "pd_read / pl_read"
   ]
  },
  {
   "cell_type": "markdown",
   "metadata": {},
   "source": [
    "## Filtering performance difference \n",
    "\n",
    "### With Pandas"
   ]
  },
  {
   "cell_type": "code",
   "execution_count": 5,
   "metadata": {},
   "outputs": [
    {
     "data": {
      "text/plain": [
       "'Pandas ran the process 150 times in 98.18 seconds, for an average of 0.65 seconds'"
      ]
     },
     "execution_count": 5,
     "metadata": {},
     "output_type": "execute_result"
    }
   ],
   "source": [
    "pd_filter_setup = '''\n",
    "import pandas as pd\n",
    "pd_acc_data = pd.read_csv(\"Phones_accelerometer.csv\")\n",
    "'''\n",
    "pd_filter = timeit(\n",
    "    setup= pd_filter_setup,\n",
    "    stmt= \"pd_acc_data[pd_acc_data['Device'] == 'samsungold_2']\",\n",
    "    number=read_test_number\n",
    ")\n",
    "\n",
    "'''Pandas ran the process {filter_test_number} times in {total_time} seconds, for an average of {avg_seconds} seconds'''.format(\n",
    "    filter_test_number = filter_test_number,\n",
    "    total_time=round(pd_filter,2), \n",
    "    avg_seconds=round((pd_filter/filter_test_number),2 )\n",
    "    )"
   ]
  },
  {
   "cell_type": "markdown",
   "metadata": {},
   "source": [
    "### With Polars"
   ]
  },
  {
   "cell_type": "code",
   "execution_count": 6,
   "metadata": {},
   "outputs": [
    {
     "data": {
      "text/plain": [
       "'Polars ran the process 150 times in 7.22 seconds, for an average of 0.05 seconds'"
      ]
     },
     "execution_count": 6,
     "metadata": {},
     "output_type": "execute_result"
    }
   ],
   "source": [
    "pl_filter_setup ='''\n",
    "import polars as pl\n",
    "pl_acc_data = pl.read_csv(\"Phones_accelerometer.csv\")\n",
    "'''\n",
    "\n",
    "pl_filter = timeit(\n",
    "    setup= pl_filter_setup,\n",
    "    stmt= \"pl_acc_data.filter(pl.col('Device') == 'samsungold_2')\",\n",
    "    number=filter_test_number\n",
    ")\n",
    "\n",
    "'''Polars ran the process {filter_test_number} times in {total_time} seconds, for an average of {avg_seconds} seconds'''.format(\n",
    "    filter_test_number = filter_test_number,\n",
    "    total_time=round(pl_filter,2), \n",
    "    avg_seconds=round((pl_filter/filter_test_number),2 )\n",
    "    )"
   ]
  },
  {
   "cell_type": "markdown",
   "metadata": {},
   "source": [
    "### How much faster is Polars compared to Pandas (Pandas Time / Polars Time)"
   ]
  },
  {
   "cell_type": "code",
   "execution_count": 7,
   "metadata": {},
   "outputs": [
    {
     "data": {
      "text/plain": [
       "13.598406680079346"
      ]
     },
     "execution_count": 7,
     "metadata": {},
     "output_type": "execute_result"
    }
   ],
   "source": [
    "pd_filter / pl_filter"
   ]
  }
 ],
 "metadata": {
  "kernelspec": {
   "display_name": "Python 3.10.2 ('.venv': venv)",
   "language": "python",
   "name": "python3"
  },
  "language_info": {
   "codemirror_mode": {
    "name": "ipython",
    "version": 3
   },
   "file_extension": ".py",
   "mimetype": "text/x-python",
   "name": "python",
   "nbconvert_exporter": "python",
   "pygments_lexer": "ipython3",
   "version": "3.10.2"
  },
  "orig_nbformat": 4,
  "vscode": {
   "interpreter": {
    "hash": "4a51c7e864b724cbebc27d9ba8247c03131c23f5dc483affb2a38e1575563c4b"
   }
  }
 },
 "nbformat": 4,
 "nbformat_minor": 2
}
