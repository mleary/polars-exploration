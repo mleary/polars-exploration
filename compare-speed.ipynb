{
 "cells": [
  {
   "cell_type": "markdown",
   "metadata": {},
   "source": [
    "# Comparing speed performance of pandas vs. polars"
   ]
  },
  {
   "cell_type": "code",
   "execution_count": 62,
   "metadata": {},
   "outputs": [],
   "source": [
    "import pandas as pd\n",
    "import polars as pl\n",
    "from timeit import timeit, repeat\n",
    "\n",
    "filter_test_number = 100\n",
    "read_test_number = 100"
   ]
  },
  {
   "cell_type": "markdown",
   "metadata": {},
   "source": [
    "## Reading in data difference (via csv, but assume comparable )\n",
    "\n",
    "### With Pandas"
   ]
  },
  {
   "cell_type": "code",
   "execution_count": 63,
   "metadata": {},
   "outputs": [
    {
     "data": {
      "text/plain": [
       "1039.2774304159975"
      ]
     },
     "execution_count": 63,
     "metadata": {},
     "output_type": "execute_result"
    }
   ],
   "source": [
    "\n",
    "pd_read = timeit(\n",
    "    setup= 'import pandas as pd',\n",
    "    stmt= 'pd.read_csv(\"Phones_accelerometer.csv\")',\n",
    "    number=read_test_number\n",
    ")\n",
    "\n",
    "pd_read"
   ]
  },
  {
   "cell_type": "markdown",
   "metadata": {},
   "source": [
    "### With Polars"
   ]
  },
  {
   "cell_type": "code",
   "execution_count": 64,
   "metadata": {},
   "outputs": [
    {
     "data": {
      "text/plain": [
       "242.92531825000333"
      ]
     },
     "execution_count": 64,
     "metadata": {},
     "output_type": "execute_result"
    }
   ],
   "source": [
    "pl_read = timeit(\n",
    "    setup= 'import polars as pl',\n",
    "    stmt= 'pl.read_csv(\"Phones_accelerometer.csv\")',\n",
    "    number=read_test_number\n",
    ")\n",
    "\n",
    "pl_read"
   ]
  },
  {
   "cell_type": "markdown",
   "metadata": {},
   "source": [
    "### How much faster is Polars compared to Pandas (Pandas Time / Polars Time)"
   ]
  },
  {
   "cell_type": "code",
   "execution_count": 65,
   "metadata": {},
   "outputs": [
    {
     "data": {
      "text/plain": [
       "4.278176675460559"
      ]
     },
     "execution_count": 65,
     "metadata": {},
     "output_type": "execute_result"
    }
   ],
   "source": [
    "pd_read / pl_read"
   ]
  },
  {
   "cell_type": "markdown",
   "metadata": {},
   "source": [
    "## Filtering performance difference \n",
    "\n",
    "### With Pandas"
   ]
  },
  {
   "cell_type": "code",
   "execution_count": 66,
   "metadata": {},
   "outputs": [
    {
     "data": {
      "text/plain": [
       "64.56480266599829"
      ]
     },
     "execution_count": 66,
     "metadata": {},
     "output_type": "execute_result"
    }
   ],
   "source": [
    "pd_filter_setup = '''\n",
    "import pandas as pd\n",
    "pd_acc_data = pd.read_csv(\"Phones_accelerometer.csv\")\n",
    "'''\n",
    "pd_filter = timeit(\n",
    "    setup= pd_filter_setup,\n",
    "    stmt= \"pd_acc_data[pd_acc_data['Device'] == 'samsungold_2']\",\n",
    "    number=read_test_number\n",
    ")\n",
    "\n",
    "pd_filter"
   ]
  },
  {
   "cell_type": "markdown",
   "metadata": {},
   "source": [
    "### With Polars"
   ]
  },
  {
   "cell_type": "code",
   "execution_count": 67,
   "metadata": {},
   "outputs": [
    {
     "data": {
      "text/plain": [
       "6.847463416001119"
      ]
     },
     "execution_count": 67,
     "metadata": {},
     "output_type": "execute_result"
    }
   ],
   "source": [
    "pl_filter_setup ='''\n",
    "import polars as pl\n",
    "pl_acc_data = pl.read_csv(\"Phones_accelerometer.csv\")\n",
    "'''\n",
    "\n",
    "pl_filter = timeit(\n",
    "    setup= pl_filter_setup,\n",
    "    stmt= \"pl_acc_data.filter(pl.col('Device') == 'samsungold_2')\",\n",
    "    number=filter_test_number\n",
    ")\n",
    "\n",
    "pl_filter"
   ]
  },
  {
   "cell_type": "markdown",
   "metadata": {},
   "source": [
    "### How much faster is Polars compared to Pandas (Pandas Time / Polars Time)"
   ]
  },
  {
   "cell_type": "code",
   "execution_count": 68,
   "metadata": {},
   "outputs": [
    {
     "data": {
      "text/plain": [
       "9.4290102397807"
      ]
     },
     "execution_count": 68,
     "metadata": {},
     "output_type": "execute_result"
    }
   ],
   "source": [
    "pd_filter / pl_filter"
   ]
  }
 ],
 "metadata": {
  "kernelspec": {
   "display_name": "Python 3.10.2 ('.venv': venv)",
   "language": "python",
   "name": "python3"
  },
  "language_info": {
   "codemirror_mode": {
    "name": "ipython",
    "version": 3
   },
   "file_extension": ".py",
   "mimetype": "text/x-python",
   "name": "python",
   "nbconvert_exporter": "python",
   "pygments_lexer": "ipython3",
   "version": "3.10.2"
  },
  "orig_nbformat": 4,
  "vscode": {
   "interpreter": {
    "hash": "4a51c7e864b724cbebc27d9ba8247c03131c23f5dc483affb2a38e1575563c4b"
   }
  }
 },
 "nbformat": 4,
 "nbformat_minor": 2
}
